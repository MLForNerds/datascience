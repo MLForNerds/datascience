{
 "cells": [
  {
   "cell_type": "code",
   "execution_count": 1,
   "metadata": {},
   "outputs": [],
   "source": [
    "import numpy as np"
   ]
  },
  {
   "cell_type": "code",
   "execution_count": 50,
   "metadata": {},
   "outputs": [
    {
     "name": "stdout",
     "output_type": "stream",
     "text": [
      "[10 20 30 40]\n",
      "[100 200 300 400]\n"
     ]
    }
   ],
   "source": [
    "# Creating numpy arrays from lists\n",
    "a=[10,20,30,40]\n",
    "b=np.array(a)\n",
    "print(b)\n",
    "c=np.array([100,200,300,400])\n",
    "print(c)"
   ]
  },
  {
   "cell_type": "code",
   "execution_count": 22,
   "metadata": {},
   "outputs": [
    {
     "name": "stdout",
     "output_type": "stream",
     "text": [
      "[12.    3.5   6.   10.12]\n"
     ]
    }
   ],
   "source": [
    "# numpy data upcasting from int to float\n",
    "a = np.array([12,3.5,6,10.12])\n",
    "print(a)"
   ]
  },
  {
   "cell_type": "code",
   "execution_count": 26,
   "metadata": {},
   "outputs": [
    {
     "name": "stdout",
     "output_type": "stream",
     "text": [
      "[12 34 56 68] [12. 34. 56. 68.]\n",
      "[[12 34 56]\n",
      " [12 34 56]]\n"
     ]
    }
   ],
   "source": [
    "# Specifying datatype while creating\n",
    "a=np.array([12,34,56,68], dtype='int8')\n",
    "b=np.array([12,34,56,68], dtype=np.float32)\n",
    "print(a,b)\n",
    "c=[[12,34,56],[12,34,56]]\n",
    "d=np.array(c)\n",
    "print(d)"
   ]
  },
  {
   "cell_type": "code",
   "execution_count": 32,
   "metadata": {},
   "outputs": [
    {
     "name": "stdout",
     "output_type": "stream",
     "text": [
      "[[[91 61 68 15]\n",
      "  [60 98 32 19]\n",
      "  [51  8 82 32]]\n",
      "\n",
      " [[38 71 73 51]\n",
      "  [90 19 71 32]\n",
      "  [47 56 72  0]]]\n"
     ]
    }
   ],
   "source": [
    "# Creating numpy arrays from scratch\n",
    "# zeros, ones, eye, full, empty,arange, linspace, random, randint\n",
    "a=np.zeros(10)\n",
    "# print(a)\n",
    "b = np.zeros((3,4))\n",
    "# print(b)\n",
    "c=np.zeros((3,2,3))\n",
    "# print(c)\n",
    "d=np.ones((3,4,2,2), dtype=np.int32)\n",
    "# print(d)\n",
    "e=np.eye(5, dtype=np.int16) # identity matrix\n",
    "# print(e)\n",
    "f=np.full((3,2,5), 103857) # for filling a matrix with specififed value\n",
    "# print(f)\n",
    "g = np.empty((10,5))\n",
    "# print(g)\n",
    "a=np.arange(2,100,3)  # arange(start, stop, step)\n",
    "# print(a)\n",
    "b= np.linspace(0,12,5) #linspace(start, stop, no of values)\n",
    "# print(b)\n",
    "# print(np.random.random((3,2))) # picks one random number from uniform distribution\n",
    "print(np.random.randint(100, size=(2,3,4)))"
   ]
  },
  {
   "cell_type": "code",
   "execution_count": 34,
   "metadata": {},
   "outputs": [
    {
     "name": "stdout",
     "output_type": "stream",
     "text": [
      "24\n",
      "(3, 4)\n",
      "2\n",
      "int64\n",
      "8\n",
      "96\n"
     ]
    }
   ],
   "source": [
    "# numpy attributes\n",
    "# creating arrays with size\n",
    "x1 = np.random.randint(100, size=(8))\n",
    "# print(x1)\n",
    "x2 = np.random.randint(100, size=(3,4))\n",
    "# print(x2)\n",
    "x3 = np.random.randint(100, size=(2,3,4))\n",
    "# print(x3)\n",
    "print(x3.size) # size will give numer of elements\n",
    "print(x2.shape) # shape of the matrix\n",
    "print(x2.ndim)  # number of dimensions\n",
    "print(x2.dtype)  # datatype\n",
    "print(x2.itemsize)  # memory for each element\n",
    "print(x2.nbytes)  # total memory occupied\n",
    "# ndim, shape, size, dtype, itemsize, nbytes"
   ]
  },
  {
   "cell_type": "code",
   "execution_count": 45,
   "metadata": {},
   "outputs": [
    {
     "name": "stdout",
     "output_type": "stream",
     "text": [
      "[[[90 90 30 27]\n",
      "  [42 98 55 26]\n",
      "  [ 3 13 13 58]]\n",
      "\n",
      " [[50 89 66 14]\n",
      "  [17 24 34 23]\n",
      "  [11 71 23 95]]]\n",
      "58\n",
      "[[[ 90  90  30  27]\n",
      "  [ 42  98  55  26]\n",
      "  [  3  13  13 100]]\n",
      "\n",
      " [[ 50  89  66  14]\n",
      "  [ 17  24  34  23]\n",
      "  [ 11  71  23  95]]]\n"
     ]
    }
   ],
   "source": [
    "# Indexing - Accessing and modifying the contents\n",
    "# single dimensional, multi-dimensional arrays\n",
    "# print(x1)\n",
    "# print(x1[-2]) # +ve index as well as -ve index\n",
    "# print(x2)\n",
    "# print(x2[1,2]) # 1st index - rows, 2nd index - columns\n",
    "print(x3)\n",
    "print(x3[0,2,3])\n",
    "x3[0,2,3] = 100\n",
    "print(x3)"
   ]
  },
  {
   "cell_type": "code",
   "execution_count": 58,
   "metadata": {},
   "outputs": [
    {
     "name": "stdout",
     "output_type": "stream",
     "text": [
      "[[89 76 49]\n",
      " [ 8 82 33]\n",
      " [63 71 51]]\n"
     ]
    }
   ],
   "source": [
    "# Slicing - Accessing sub arrays\n",
    "# x[start:stop:step]\n",
    "# print(x1)\n",
    "# print(x1[2:6:2])\n",
    "# print(x1[:4])\n",
    "# print(x1[2:])\n",
    "# print(x1[:])\n",
    "# Single and multi dimensional arrays\n",
    "# Accessing complete rows and columns\n",
    "# print(x2)\n",
    "# print(x2[:2, 1:3])\n",
    "# print(x2[:, 1:])\n",
    "x4 = x2[:, 1:]\n",
    "print(x4)"
   ]
  },
  {
   "cell_type": "code",
   "execution_count": 65,
   "metadata": {},
   "outputs": [
    {
     "name": "stdout",
     "output_type": "stream",
     "text": [
      "[[58 89 76 49]\n",
      " [77  8 82 33]\n",
      " [79 63 71 51]]\n",
      "139988085553472\n",
      "139988112230320 139988112230320\n",
      "[[58 89 76 49]\n",
      " [77  8 82 33]\n",
      " [79 63 71 51]]\n"
     ]
    }
   ],
   "source": [
    "# Copying the arrays from one another, copying subarrays\n",
    "print(x2)\n",
    "# x4 = x2[1:3, 2:].copy()\n",
    "x4=x2.copy()\n",
    "print(id(x4))\n",
    "x5=x2\n",
    "print(id(x5), id(x2))\n",
    "print(x5)"
   ]
  },
  {
   "cell_type": "code",
   "execution_count": 76,
   "metadata": {},
   "outputs": [
    {
     "name": "stdout",
     "output_type": "stream",
     "text": [
      "[[58 89 76 49]\n",
      " [77  8 82 33]\n",
      " [79 63 71 51]]\n",
      "(3, 4)\n",
      "(12,)\n",
      "[58 89 76 49 77  8 82 33 79 63 71 51]\n",
      "[[58 89 76 49 77  8 82 33 79 63 71 51]]\n"
     ]
    }
   ],
   "source": [
    "# Reshaping of arrays\n",
    "print(x2)\n",
    "print(x2.shape)\n",
    "x5=x2.reshape(x2.size)  # to get the number of elements automatically.\n",
    "print(x5.shape)\n",
    "print(x5)\n",
    "print(x2.reshape(1,12))  # number of elements should match.\n",
    "# newaxis - Increasing the axis"
   ]
  },
  {
   "cell_type": "code",
   "execution_count": 33,
   "metadata": {},
   "outputs": [
    {
     "name": "stdout",
     "output_type": "stream",
     "text": [
      "[[99 61  1 14 62 97]\n",
      " [27 31 61 71 94 28]\n",
      " [90 83 63  8 80 70]\n",
      " [23 48 42 25  7 51]\n",
      " [57 69 81 92 36 70]\n",
      " [44 19 30 53 72  3]]\n",
      "[array([[99, 61,  1, 14, 62, 97],\n",
      "       [27, 31, 61, 71, 94, 28],\n",
      "       [90, 83, 63,  8, 80, 70]]), array([[23, 48, 42, 25,  7, 51],\n",
      "       [57, 69, 81, 92, 36, 70],\n",
      "       [44, 19, 30, 53, 72,  3]])]\n"
     ]
    }
   ],
   "source": [
    "# Array concatenation and splitting\n",
    "# Single and multi dimensional arrays\n",
    "# axis option\n",
    "# hstack, vstack\n",
    "# split, hsplit, vsplit\n",
    "# x1 = np.random.randint(100, size=(3,3))\n",
    "# x2 = np.random.randint(100, size=(3,3))\n",
    "# x3 = np.random.randint(100, size=(3,3))\n",
    "# x4 = np.random.randint(100, size=(3,3))\n",
    "# print(x1,x2)\n",
    "# print(np.hstack([x2,x1,x3,x4]))\n",
    "# print(np.vstack([x2,x1,x3,x4]))\n",
    "# c = np.concatenate([x1,x2])\n",
    "# print(c)\n",
    "x1 = np.random.randint(100, size=(6,6))\n",
    "print(x1)\n",
    "print(np.vsplit(x1, [3]))"
   ]
  },
  {
   "cell_type": "code",
   "execution_count": null,
   "metadata": {},
   "outputs": [],
   "source": []
  },
  {
   "cell_type": "code",
   "execution_count": 25,
   "metadata": {},
   "outputs": [
    {
     "name": "stdout",
     "output_type": "stream",
     "text": [
      "[110, 120, 130, 140, 150]\n"
     ]
    }
   ],
   "source": [
    "# Numpy vectorized operations through functions\n",
    "# for loop example\n",
    "a=[10,20,30,40,50]\n",
    "# add 100 to all the elements\n",
    "b=[]\n",
    "for x in a:\n",
    "    b.append(x+100)\n",
    "print(b)"
   ]
  },
  {
   "cell_type": "code",
   "execution_count": 48,
   "metadata": {},
   "outputs": [
    {
     "name": "stdout",
     "output_type": "stream",
     "text": [
      "[[41 75 62]\n",
      " [60 97 56]\n",
      " [80 95 83]] [[29 94 81]\n",
      " [ 3 22 32]\n",
      " [26 29 10]]\n",
      "[[ 99. 263. 224.]\n",
      " [ 66. 141. 120.]\n",
      " [132. 153. 103.]]\n"
     ]
    }
   ],
   "source": [
    "# Array arithmetic\n",
    "# arithmetic operations with scalars\n",
    "# a=np.random.randint(100, size=(5))\n",
    "# print(a)\n",
    "# print(a+100)\n",
    "# print(a-100)\n",
    "# print(a*100)\n",
    "# print(a/100)\n",
    "# print(a//100)\n",
    "# print(a**100)\n",
    "# print(a%100)\n",
    "# print(100**a)\n",
    "\n",
    "#arithmetic operations with two or more arrays\n",
    "a=np.random.randint(100, size=(3,3))\n",
    "b=np.random.randint(100, size=(3,3))\n",
    "print(a,b)\n",
    "# print(a+b)\n",
    "a=a+b\n",
    "c=np.empty((3,3))\n",
    "np.add(a,b, out=c)\n",
    "print(c)\n",
    "# print(a**b)\n",
    "# print(-a)\n",
    "# a=np.array([0, 30, 45, 60, 90])\n",
    "# print(a)\n",
    "# print(np.arcsin(a))"
   ]
  },
  {
   "cell_type": "code",
   "execution_count": 16,
   "metadata": {},
   "outputs": [
    {
     "name": "stdout",
     "output_type": "stream",
     "text": [
      "[17 14 12  8 15 13 15  4  1  3]\n",
      "[       17       238      2856     22848    342720   4455360  66830400\n",
      " 267321600 267321600 801964800]\n"
     ]
    }
   ],
   "source": [
    "# Aggregate functions - it gives one value\n",
    "# reduce() on add, multiply\n",
    "x1 = np.random.randint(20, size=(10))\n",
    "print(x1)\n",
    "# print(np.add(x1, 20))   # x1+20\n",
    "# sum = np.add(x1,20)  # Total sum of all the elements, \n",
    "#axis=0 - along rows, axis=1 - along columns\n",
    "# print(sum)\n",
    "print(np.multiply.accumulate(x1))\n",
    "\n",
    "# accumulate() on add, multiply\n",
    "# outer() on multiply"
   ]
  },
  {
   "cell_type": "code",
   "execution_count": 41,
   "metadata": {},
   "outputs": [
    {
     "name": "stdout",
     "output_type": "stream",
     "text": [
      "[[[27 79 28]\n",
      "  [12 35  0]\n",
      "  [57 89 75]\n",
      "  [ 8 43 85]]\n",
      "\n",
      " [[98  3 62]\n",
      "  [64 13 90]\n",
      "  [47 89 12]\n",
      "  [65 47 54]]\n",
      "\n",
      " [[34  5 49]\n",
      "  [56 95 67]\n",
      "  [32 62  4]\n",
      "  [47 49 21]]]\n",
      "[27 79 28 12 35  0 57 89 75  8 43 85 98  3 62 64 13 90 47 89 12 65 47 54\n",
      " 34  5 49 56 95 67 32 62  4 47 49 21]\n",
      "[27 79 28 12 35  0 57 89 75  8 43 85 98  3 62 64 13 90 47 89 12 65 47 54\n",
      " 34  5 49 56 95 67 32 62  4 47 49 21]\n"
     ]
    }
   ],
   "source": [
    "# Aggregate functions\n",
    "# sum(), min(), max()\n",
    "x1 = np.random.randint(100, size=(3,4,3))\n",
    "print(x1)\n",
    "# print(x1.max(axis=1))\n",
    "# print(x1.argmax(axis=1)) # gives the index of min/max value\n",
    "# multi-dimensional arrays with axis\n",
    "x2 = x1.reshape(1,36)[0]\n",
    "print(x2)\n",
    "x3=x1.flatten()  # converts any matrix into one dimensional\n",
    "print(x3)"
   ]
  },
  {
   "cell_type": "code",
   "execution_count": 44,
   "metadata": {},
   "outputs": [
    {
     "name": "stdout",
     "output_type": "stream",
     "text": [
      "[10 10 79 45 85  1 56 92 84 12]\n",
      "[15 15 84 50 90  6 61 97 89 17]\n"
     ]
    }
   ],
   "source": [
    "# Broadcasting - increasing the dimension of one of the operands according to the second operand\n",
    "# Dimension will be changed to match the highest dimension available.\n",
    "x1 = np.random.randint(100, size=(10))\n",
    "print(x1)\n",
    "print(x1+5)"
   ]
  },
  {
   "cell_type": "code",
   "execution_count": 20,
   "metadata": {},
   "outputs": [
    {
     "name": "stdout",
     "output_type": "stream",
     "text": [
      "[[60 91  7  1]\n",
      " [95 54 74 97]\n",
      " [78 89 77 73]] [[21 62  5 36]\n",
      " [37 15 86 14]\n",
      " [79 31  0 22]]\n",
      "[[ True  True False False]\n",
      " [ True  True  True  True]\n",
      " [ True  True  True  True]]\n",
      "True\n"
     ]
    }
   ],
   "source": [
    "# Comparison operators\n",
    "# Comparing with scalar\n",
    "# <,>,<=,>=,==,!=\n",
    "x1 = np.random.randint(100, size=(3,4))\n",
    "x2 = np.random.randint(100, size=(3,4))\n",
    "print(x1,x2)\n",
    "print(x1>10)\n",
    "# print(x2[x1>10])  # masking, filtering the elements based on condition\n",
    "# np.any(), np.all(), np.add.reduce(), np.multiply.reduce(), accumulate()\n",
    "print(np.any(x1>10))"
   ]
  },
  {
   "cell_type": "code",
   "execution_count": 34,
   "metadata": {},
   "outputs": [
    {
     "name": "stdout",
     "output_type": "stream",
     "text": [
      "[2 3 3 6 8 3 0 8]\n",
      "[[3 6]\n",
      " [3 8]]\n"
     ]
    }
   ],
   "source": [
    "# Fancy indexing - creating index arrays, modifying values using fancy indexing\n",
    "x = np.random.randint(10, size=(8))\n",
    "print(x)\n",
    "i = np.array([[1,3],[5,7]])\n",
    "# x[i]=100  # the output shape depends on the index array shape\n",
    "print(x[i])"
   ]
  },
  {
   "cell_type": "code",
   "execution_count": 20,
   "metadata": {},
   "outputs": [
    {
     "name": "stdout",
     "output_type": "stream",
     "text": [
      "[[ 4 17 15 12  6 19  3 15]\n",
      " [ 9  4  7 11 19 13  7  5]\n",
      " [18  6 15  8 17 10 17 14]\n",
      " [13 14 16  6 16  2  6  2]\n",
      " [ 3  9  7 11 10  7 13  4]\n",
      " [ 8  1 10 15 17 18 15  5]\n",
      " [14 12 17 13  6 18 18 10]\n",
      " [12  2  5 15  7  2  0  2]]\n",
      "[[ 3  4  6 12 15 15 17 19]\n",
      " [ 4  5  7  7  9 11 13 19]\n",
      " [ 6  8 10 14 15 17 17 18]\n",
      " [ 2  2  6  6 13 14 16 16]\n",
      " [ 3  4  7  7  9 10 11 13]\n",
      " [ 1  5  8 10 15 15 17 18]\n",
      " [ 6 10 12 13 14 17 18 18]\n",
      " [ 0  2  2  2  5  7 12 15]]\n",
      "[[ 6  4  3 12 17 19 15 15]\n",
      " [ 4  5  7  7  9 13 19 11]\n",
      " [ 6  8 10 14 17 15 17 18]\n",
      " [ 2  2  6  6 16 14 16 13]\n",
      " [ 3  4  7  7  9 10 13 11]\n",
      " [ 1  5  8 10 15 15 17 18]\n",
      " [12 10  6 13 17 18 18 14]\n",
      " [ 2  0  2  2  5  7 12 15]]\n"
     ]
    }
   ],
   "source": [
    "# numpy sorting - sort(), argsort(), sorting along rows and columns\n",
    "x = np.random.randint(20, size=(8,8))\n",
    "print(x)\n",
    "# print(np.sort(x)[::-1])  # by default, it sorts row wise.\n",
    "# print(np.argsort(x)[::-1]) # indexes of sorted array\n",
    "# partition(), partition along axis\n",
    "# to get the specified number of elements smallest elements at the beginning.\n",
    "print(np.sort(x))\n",
    "print(np.partition(x,3, axis=1))  getting smallest sub arrays"
   ]
  },
  {
   "cell_type": "code",
   "execution_count": 12,
   "metadata": {},
   "outputs": [
    {
     "name": "stdout",
     "output_type": "stream",
     "text": [
      "[10 20 30 40 50 60]\n",
      "35.0\n",
      "35.0\n",
      "17.07825127659933\n",
      "291.6666666666667\n"
     ]
    }
   ],
   "source": [
    "a=[10,20,30,40,50,60]\n",
    "x= np.array(a)\n",
    "print(x)\n",
    "# aggregation names\n",
    "print(np.mean(x))\n",
    "print(np.median(x))\n",
    "print(np.std(x))\n",
    "print(np.var(x))\n",
    "# print(a[::-1])"
   ]
  },
  {
   "cell_type": "code",
   "execution_count": 30,
   "metadata": {},
   "outputs": [
    {
     "name": "stdout",
     "output_type": "stream",
     "text": [
      "[[6 6]\n",
      " [7 6]]\n",
      "[[2 1]\n",
      " [3 7]]\n",
      "[[[[12  6]\n",
      "   [18 42]]\n",
      "\n",
      "  [[12  6]\n",
      "   [18 42]]]\n",
      "\n",
      "\n",
      " [[[14  7]\n",
      "   [21 49]]\n",
      "\n",
      "  [[12  6]\n",
      "   [18 42]]]]\n"
     ]
    }
   ],
   "source": [
    "# Structured arrays - mentioning compound datatypes.\n",
    "# matrix multiplication and outer product\n",
    "x=np.random.randint(10, size=(2,2))\n",
    "y=np.random.randint(10, size=(2,2))\n",
    "print(x)\n",
    "print(y)\n",
    "# print(np.multiply(x,y))  # element wise multiplication\n",
    "# print(np.matmul(x,y))\n",
    "# print(np.dot(x,y))  # dot product of vectors as well as matrix multiplication.\n",
    "print(np.multiply.outer(x,y))"
   ]
  },
  {
   "cell_type": "code",
   "execution_count": null,
   "metadata": {},
   "outputs": [],
   "source": []
  }
 ],
 "metadata": {
  "kernelspec": {
   "display_name": "Python 3",
   "language": "python",
   "name": "python3"
  },
  "language_info": {
   "codemirror_mode": {
    "name": "ipython",
    "version": 3
   },
   "file_extension": ".py",
   "mimetype": "text/x-python",
   "name": "python",
   "nbconvert_exporter": "python",
   "pygments_lexer": "ipython3",
   "version": "3.7.3"
  }
 },
 "nbformat": 4,
 "nbformat_minor": 2
}
